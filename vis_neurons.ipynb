{
 "cells": [
  {
   "cell_type": "markdown",
   "metadata": {},
   "source": [
    "## Visualization of neurons\n",
    "\n",
    "Here you can plot the top 5 activating images of each neuron."
   ]
  },
  {
   "cell_type": "code",
   "execution_count": 1,
   "metadata": {},
   "outputs": [],
   "source": [
    "import torch\n",
    "import pandas as pd\n",
    "from matplotlib import pyplot as plt\n",
    "import data_utils\n",
    "import numpy as np\n",
    "import os"
   ]
  },
  {
   "cell_type": "code",
   "execution_count": null,
   "metadata": {},
   "outputs": [],
   "source": [
    "def plot_neurons(layer, model, layer_name, pil_data): \n",
    "    num_neurons = len(layer)\n",
    "    fig, ax = plt.subplots(num_neurons, 5, figsize=(10, 2*num_neurons))\n",
    "    fig.suptitle(f\"{model}, {layer_name}\")\n",
    "    for i, unit in enumerate(layer.index):\n",
    "        images = layer.images[unit]\n",
    "        # stupid rephrasing since it is saved as a string\n",
    "        images = images[1:-1]\n",
    "        images = images.split(\" \")\n",
    "        images = [x for x in images if x.strip()]\n",
    "        for j in range(5):\n",
    "            im = pil_data[int(images[j])][0]\n",
    "            #im = im.resize(224,224)\n",
    "            ax[i,j].imshow(im)\n",
    "            ax[i,j ].axis('off')\n",
    "        ax[i,0].set_title(f\"Neuron {unit}, {layer.description[unit]}, similarity: {layer.similarity[unit]:.2f}\")\n",
    "    \n",
    "    if not os.path.exists(f\"results/plots/{model}\"):\n",
    "        os.mkdir(f\"results/plots/{model}\")\n",
    "\n",
    "    plt.savefig(f\"results/plots/{model}/{layer_name}.png\")\n",
    "    plt.close()\n"
   ]
  },
  {
   "cell_type": "code",
   "execution_count": null,
   "metadata": {},
   "outputs": [],
   "source": [
    "# Load the results\n",
    "models = [\"vit\", \"dinov2\", \"mae\", \"clip\"]\n",
    "\n",
    "# images\n",
    "d_probe = 'imagenet_broden'\n",
    "pil_data = data_utils.get_data(d_probe)\n",
    "for model in models:\n",
    "    df = pd.read_csv(f\"results/{model}.csv\")\n",
    "    for layer_name in df.layer.unique():\n",
    "        print(f\"Layer: {layer_name}\")\n",
    "        df_layer = df[df.layer == layer_name]\n",
    "        df_layer = df_layer.sort_values('similarity', ascending=False)\n",
    "        df_layer = df_layer.head(20) # only plot the top 20 neurons - change this if you want to plot more\n",
    "        #print(df_layer.head)\n",
    "        plot_neurons(df_layer, model, layer_name, pil_data)"
   ]
  }
 ],
 "metadata": {
  "kernelspec": {
   "display_name": "clip",
   "language": "python",
   "name": "python3"
  },
  "language_info": {
   "codemirror_mode": {
    "name": "ipython",
    "version": 3
   },
   "file_extension": ".py",
   "mimetype": "text/x-python",
   "name": "python",
   "nbconvert_exporter": "python",
   "pygments_lexer": "ipython3",
   "version": "3.10.16"
  }
 },
 "nbformat": 4,
 "nbformat_minor": 2
}
